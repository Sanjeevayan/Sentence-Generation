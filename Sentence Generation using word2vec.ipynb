{
 "cells": [
  {
   "cell_type": "code",
   "execution_count": 2,
   "metadata": {},
   "outputs": [],
   "source": [
    "s = ' '"
   ]
  },
  {
   "cell_type": "code",
   "execution_count": 3,
   "metadata": {},
   "outputs": [
    {
     "name": "stdout",
     "output_type": "stream",
     "text": [
      "hi\n",
      "[('laptops', 0.805374026298523), ('laptop_computer', 0.7848465442657471), ('notebook', 0.67857825756073), ('netbook', 0.6707929372787476), ('computer', 0.6640493273735046), ('laptop_computers', 0.6633790731430054), ('notebook_PC', 0.6631842851638794), ('MacBook', 0.6598750352859497), ('PowerBook', 0.6520565152168274), ('Sony_Vaio_laptop', 0.6496157646179199), ('notebooks', 0.6491786241531372), ('Macbook', 0.6486797332763672), ('Laptop', 0.648013710975647), ('IBM_ThinkPad_T##', 0.6193387508392334), ('MacBook_Pro', 0.6187069416046143), ('Dell_Latitude_D###', 0.6164904832839966), ('Macbook_Pro', 0.6115914583206177), ('computers', 0.6102420091629028), ('Dell_Inspiron_laptop', 0.6090463399887085), ('notebook_computers', 0.607465386390686)]\n",
      "[('do', 0.7385802268981934), ('wanted', 0.6999557614326477), ('need', 0.6883813142776489), ('can', 0.6670255661010742), ('wanting', 0.6570319533348083), ('prefer', 0.6386573314666748), ('wanna', 0.6364884376525879), ('wants', 0.6359338760375977), ('wantto', 0.6353239417076111), ('going', 0.6237039566040039), ('wish', 0.6210690140724182), ('know', 0.6197155714035034), (\"'ll\", 0.6178674101829529), ('not', 0.6176074147224426), ('try', 0.609738826751709), ('intend', 0.603229820728302), ('don_t', 0.597777247428894), ('think', 0.5968195199966431), ('let', 0.5913731455802917), ('don_`_t', 0.5895379185676575)]\n",
      "[('projectors', 0.8100230693817139), ('LCD_projector', 0.7190037369728088), ('DLP_projector', 0.6906901597976685), ('PLV_Z####', 0.6793618202209473), ('Projector', 0.6701138019561768), ('widescreen_LCD', 0.6393048167228699), ('anamorphic_lens', 0.6374068260192871), ('Dell_####MP', 0.6287344694137573), ('digital_projectors', 0.6269276738166809), ('Sony_SXRD', 0.6267068982124329), ('####p_projector', 0.6225889325141907), ('DLP_projectors', 0.6192668676376343), ('camcorder', 0.617840588092804), ('BenQ_MP###', 0.6174912452697754), ('DLP_projection', 0.615046501159668), ('ViewSonic_PJ###D', 0.6143858432769775), ('TDP_projector', 0.6116245985031128), ('3LCD_projector', 0.6110708117485046), ('MovieMate', 0.6101118922233582), ('LCD_screen', 0.609187126159668)]\n"
     ]
    }
   ],
   "source": [
    "# New Request Offering: Request for an Equipment i.e. computer\n",
    "# Using Gensim library & word2vec model(one of the most state of the art algo to find semantic similarity of terms)\n",
    "# This word2vec model has been trained on Google news data\n",
    "# It includes word vectors for a vocabulary of 3 million words and phrases that they trained on roughly 100 billion words from a Google News dataset. The vector length is 300 \n",
    "import gensim\n",
    "print (\"hi\")\n",
    "\n",
    "#model = gensim.models.Word2Vec.load_word2vec_format('./model/GoogleNews-vectors-negative300.bin', binary=True)\n",
    "model = gensim.models.KeyedVectors.load_word2vec_format(\"/Users/kumarsanjeev/Downloads/GoogleNews-vectors-negative300.bin\",binary = True)\n",
    "print(model.similar_by_word('laptop',topn=20))\n",
    "\n",
    "print(model.similar_by_word('want' ,topn=20))\n",
    "print(model.similar_by_word('projector' ,topn=20))"
   ]
  },
  {
   "cell_type": "code",
   "execution_count": 13,
   "metadata": {},
   "outputs": [
    {
     "name": "stdout",
     "output_type": "stream",
     "text": [
      "I do a laptops\n",
      "I wanted a laptop_computer\n",
      "I need a notebook\n",
      "I can a netbook\n",
      "I wanting a computer\n",
      "I prefer a laptop_computers\n",
      "I wanna a notebook_PC\n",
      "I wants a MacBook\n",
      "I wantto a PowerBook\n",
      "I going a Sony_Vaio_laptop\n",
      "I wish a notebooks\n",
      "I know a Macbook\n",
      "I 'll a Laptop\n",
      "I not a IBM_ThinkPad_T##\n",
      "I try a MacBook_Pro\n",
      "I intend a Dell_Latitude_D###\n",
      "I don_t a Macbook_Pro\n",
      "I think a computers\n",
      "I let a Dell_Inspiron_laptop\n",
      "I don_`_t a notebook_computers\n"
     ]
    }
   ],
   "source": [
    "# Automatic sentence generation using Entity & Taxonomy terms  through Word2vec model\n",
    "sent = \"I want a new laptop\".split()\n",
    "list1 = model.similar_by_word('laptop' ,topn=20)\n",
    "\n",
    "list2 = model.similar_by_word('want', topn=20)\n",
    "for i, j in zip(list1,list2):\n",
    "    print(\"I {} a {}\".format(j[0] ,i[0]))"
   ]
  },
  {
   "cell_type": "code",
   "execution_count": 5,
   "metadata": {},
   "outputs": [],
   "source": [
    "# Entity & Taxonomy terms  Extraction through Word2vec model\n",
    "import random\n",
    "sent = \"I want a laptop\".split()\n",
    "list1 = model.similar_by_word('laptop' ,topn=20)\n",
    "list2 = model.similar_by_word('want', topn=20)\n"
   ]
  },
  {
   "cell_type": "code",
   "execution_count": 12,
   "metadata": {},
   "outputs": [
    {
     "name": "stdout",
     "output_type": "stream",
     "text": [
      "I want to have Dell Latitude D### .\n"
     ]
    }
   ],
   "source": [
    "# Sentence Generation for the  pattern : Subject + Verb + Object\n",
    "subj = [\"I\"]\n",
    "verb = [\"want\",\"need\",\"want to have\",\"would like to have\"]# User will have tp provide keywords for the verbs to dentify the patterns. \n",
    "obj = []\n",
    "for i in list1:\n",
    "    obj.append(i[0])\n",
    "\n",
    "l=[subj,verb,obj,\".\"] \n",
    "m = ' '.join([random.choice(i) for i in l])\n",
    "print (m.replace(\"_\",\" \"))\n",
    "\n",
    "# Storing the output in a text file\n",
    "s = s + m + ' \\n'\n",
    "output_file = open(\"/Users/kumarsanjeev/Desktop/Test5.txt\")\n",
    "path = \"/Users/kumarsanjeev/Desktop/Test5.txt\"\n",
    "with open(path , 'w') as file:\n",
    "    file.write(s)"
   ]
  },
  {
   "cell_type": "code",
   "execution_count": 9,
   "metadata": {},
   "outputs": [],
   "source": [
    "# Storing the output in a text file\n",
    "s = s + m + ' \\n'\n",
    "output_file = open(\"/Users/kumarsanjeev/Desktop/Test5.txt\")\n",
    "path = \"/Users/kumarsanjeev/Desktop/Test5.txt\"\n",
    "with open(path , 'w') as file:\n",
    "    file.write(s)"
   ]
  },
  {
   "cell_type": "code",
   "execution_count": null,
   "metadata": {},
   "outputs": [],
   "source": []
  }
 ],
 "metadata": {
  "kernelspec": {
   "display_name": "Python 3",
   "language": "python",
   "name": "python3"
  },
  "language_info": {
   "codemirror_mode": {
    "name": "ipython",
    "version": 3
   },
   "file_extension": ".py",
   "mimetype": "text/x-python",
   "name": "python",
   "nbconvert_exporter": "python",
   "pygments_lexer": "ipython3",
   "version": "3.6.5"
  }
 },
 "nbformat": 4,
 "nbformat_minor": 2
}
